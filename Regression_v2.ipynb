{
 "cells": [
  {
   "cell_type": "markdown",
   "metadata": {},
   "source": [
    "# Forest Fires Data Set"
   ]
  },
  {
   "cell_type": "markdown",
   "metadata": {},
   "source": [
    "Abstract: This is a difficult regression task, where the aim is to predict the burned area of forest fires,\n",
    "    in the northeast region of Portugal, by using meteorological and other data \n",
    "    (see details at: [Web Link])"
   ]
  },
  {
   "cell_type": "code",
   "execution_count": 1,
   "metadata": {},
   "outputs": [],
   "source": [
    "#imports \n",
    "import numpy as np\n",
    "import pandas as pd\n",
    "import matplotlib.pyplot as plt\n",
    "import matplotlib as mpl\n",
    "from sklearn.datasets import load_boston\n",
    "from sklearn import linear_model\n",
    "from sklearn.metrics import r2_score\n",
    "from sklearn.pipeline import make_pipeline\n",
    "from sklearn.preprocessing import StandardScaler\n",
    "import statsmodels.api as sm\n",
    "import statsmodels.formula.api as smf\n",
    "import warnings\n",
    "warnings.filterwarnings(\"ignore\")\n",
    "%matplotlib inline"
   ]
  },
  {
   "cell_type": "markdown",
   "metadata": {},
   "source": [
    "# Explorando os dados"
   ]
  },
  {
   "cell_type": "code",
   "execution_count": 2,
   "metadata": {},
   "outputs": [],
   "source": [
    "#load\n",
    "data = pd.read_csv('forest.csv')\n",
    "data['target'] = data.area"
   ]
  },
  {
   "cell_type": "code",
   "execution_count": 3,
   "metadata": {},
   "outputs": [
    {
     "data": {
      "text/html": [
       "<div>\n",
       "<style scoped>\n",
       "    .dataframe tbody tr th:only-of-type {\n",
       "        vertical-align: middle;\n",
       "    }\n",
       "\n",
       "    .dataframe tbody tr th {\n",
       "        vertical-align: top;\n",
       "    }\n",
       "\n",
       "    .dataframe thead th {\n",
       "        text-align: right;\n",
       "    }\n",
       "</style>\n",
       "<table border=\"1\" class=\"dataframe\">\n",
       "  <thead>\n",
       "    <tr style=\"text-align: right;\">\n",
       "      <th></th>\n",
       "      <th>X</th>\n",
       "      <th>Y</th>\n",
       "      <th>month</th>\n",
       "      <th>day</th>\n",
       "      <th>FFMC</th>\n",
       "      <th>DMC</th>\n",
       "      <th>DC</th>\n",
       "      <th>ISI</th>\n",
       "      <th>temp</th>\n",
       "      <th>RH</th>\n",
       "      <th>wind</th>\n",
       "      <th>rain</th>\n",
       "      <th>area</th>\n",
       "      <th>target</th>\n",
       "    </tr>\n",
       "  </thead>\n",
       "  <tbody>\n",
       "    <tr>\n",
       "      <th>0</th>\n",
       "      <td>7</td>\n",
       "      <td>5</td>\n",
       "      <td>mar</td>\n",
       "      <td>fri</td>\n",
       "      <td>86.2</td>\n",
       "      <td>26.2</td>\n",
       "      <td>94.3</td>\n",
       "      <td>5.1</td>\n",
       "      <td>8.2</td>\n",
       "      <td>51</td>\n",
       "      <td>6.7</td>\n",
       "      <td>0.0</td>\n",
       "      <td>0.0</td>\n",
       "      <td>0.0</td>\n",
       "    </tr>\n",
       "    <tr>\n",
       "      <th>1</th>\n",
       "      <td>7</td>\n",
       "      <td>4</td>\n",
       "      <td>oct</td>\n",
       "      <td>tue</td>\n",
       "      <td>90.6</td>\n",
       "      <td>35.4</td>\n",
       "      <td>669.1</td>\n",
       "      <td>6.7</td>\n",
       "      <td>18.0</td>\n",
       "      <td>33</td>\n",
       "      <td>0.9</td>\n",
       "      <td>0.0</td>\n",
       "      <td>0.0</td>\n",
       "      <td>0.0</td>\n",
       "    </tr>\n",
       "    <tr>\n",
       "      <th>2</th>\n",
       "      <td>7</td>\n",
       "      <td>4</td>\n",
       "      <td>oct</td>\n",
       "      <td>sat</td>\n",
       "      <td>90.6</td>\n",
       "      <td>43.7</td>\n",
       "      <td>686.9</td>\n",
       "      <td>6.7</td>\n",
       "      <td>14.6</td>\n",
       "      <td>33</td>\n",
       "      <td>1.3</td>\n",
       "      <td>0.0</td>\n",
       "      <td>0.0</td>\n",
       "      <td>0.0</td>\n",
       "    </tr>\n",
       "    <tr>\n",
       "      <th>3</th>\n",
       "      <td>8</td>\n",
       "      <td>6</td>\n",
       "      <td>mar</td>\n",
       "      <td>fri</td>\n",
       "      <td>91.7</td>\n",
       "      <td>33.3</td>\n",
       "      <td>77.5</td>\n",
       "      <td>9.0</td>\n",
       "      <td>8.3</td>\n",
       "      <td>97</td>\n",
       "      <td>4.0</td>\n",
       "      <td>0.2</td>\n",
       "      <td>0.0</td>\n",
       "      <td>0.0</td>\n",
       "    </tr>\n",
       "    <tr>\n",
       "      <th>4</th>\n",
       "      <td>8</td>\n",
       "      <td>6</td>\n",
       "      <td>mar</td>\n",
       "      <td>sun</td>\n",
       "      <td>89.3</td>\n",
       "      <td>51.3</td>\n",
       "      <td>102.2</td>\n",
       "      <td>9.6</td>\n",
       "      <td>11.4</td>\n",
       "      <td>99</td>\n",
       "      <td>1.8</td>\n",
       "      <td>0.0</td>\n",
       "      <td>0.0</td>\n",
       "      <td>0.0</td>\n",
       "    </tr>\n",
       "  </tbody>\n",
       "</table>\n",
       "</div>"
      ],
      "text/plain": [
       "   X  Y month  day  FFMC   DMC     DC  ISI  temp  RH  wind  rain  area  target\n",
       "0  7  5   mar  fri  86.2  26.2   94.3  5.1   8.2  51   6.7   0.0   0.0     0.0\n",
       "1  7  4   oct  tue  90.6  35.4  669.1  6.7  18.0  33   0.9   0.0   0.0     0.0\n",
       "2  7  4   oct  sat  90.6  43.7  686.9  6.7  14.6  33   1.3   0.0   0.0     0.0\n",
       "3  8  6   mar  fri  91.7  33.3   77.5  9.0   8.3  97   4.0   0.2   0.0     0.0\n",
       "4  8  6   mar  sun  89.3  51.3  102.2  9.6  11.4  99   1.8   0.0   0.0     0.0"
      ]
     },
     "execution_count": 3,
     "metadata": {},
     "output_type": "execute_result"
    }
   ],
   "source": [
    "#showing first lines\n",
    "data.head()"
   ]
  },
  {
   "cell_type": "code",
   "execution_count": 4,
   "metadata": {},
   "outputs": [
    {
     "data": {
      "text/html": [
       "<div>\n",
       "<style scoped>\n",
       "    .dataframe tbody tr th:only-of-type {\n",
       "        vertical-align: middle;\n",
       "    }\n",
       "\n",
       "    .dataframe tbody tr th {\n",
       "        vertical-align: top;\n",
       "    }\n",
       "\n",
       "    .dataframe thead th {\n",
       "        text-align: right;\n",
       "    }\n",
       "</style>\n",
       "<table border=\"1\" class=\"dataframe\">\n",
       "  <thead>\n",
       "    <tr style=\"text-align: right;\">\n",
       "      <th></th>\n",
       "      <th>X</th>\n",
       "      <th>Y</th>\n",
       "      <th>FFMC</th>\n",
       "      <th>DMC</th>\n",
       "      <th>DC</th>\n",
       "      <th>ISI</th>\n",
       "      <th>temp</th>\n",
       "      <th>RH</th>\n",
       "      <th>wind</th>\n",
       "      <th>rain</th>\n",
       "      <th>area</th>\n",
       "      <th>target</th>\n",
       "    </tr>\n",
       "  </thead>\n",
       "  <tbody>\n",
       "    <tr>\n",
       "      <th>count</th>\n",
       "      <td>517.000000</td>\n",
       "      <td>517.000000</td>\n",
       "      <td>517.000000</td>\n",
       "      <td>517.000000</td>\n",
       "      <td>517.000000</td>\n",
       "      <td>517.000000</td>\n",
       "      <td>517.000000</td>\n",
       "      <td>517.000000</td>\n",
       "      <td>517.000000</td>\n",
       "      <td>517.000000</td>\n",
       "      <td>517.000000</td>\n",
       "      <td>517.000000</td>\n",
       "    </tr>\n",
       "    <tr>\n",
       "      <th>mean</th>\n",
       "      <td>4.669246</td>\n",
       "      <td>4.299807</td>\n",
       "      <td>90.644681</td>\n",
       "      <td>110.872340</td>\n",
       "      <td>547.940039</td>\n",
       "      <td>9.021663</td>\n",
       "      <td>18.889168</td>\n",
       "      <td>44.288201</td>\n",
       "      <td>4.017602</td>\n",
       "      <td>0.021663</td>\n",
       "      <td>12.847292</td>\n",
       "      <td>12.847292</td>\n",
       "    </tr>\n",
       "    <tr>\n",
       "      <th>std</th>\n",
       "      <td>2.313778</td>\n",
       "      <td>1.229900</td>\n",
       "      <td>5.520111</td>\n",
       "      <td>64.046482</td>\n",
       "      <td>248.066192</td>\n",
       "      <td>4.559477</td>\n",
       "      <td>5.806625</td>\n",
       "      <td>16.317469</td>\n",
       "      <td>1.791653</td>\n",
       "      <td>0.295959</td>\n",
       "      <td>63.655818</td>\n",
       "      <td>63.655818</td>\n",
       "    </tr>\n",
       "    <tr>\n",
       "      <th>min</th>\n",
       "      <td>1.000000</td>\n",
       "      <td>2.000000</td>\n",
       "      <td>18.700000</td>\n",
       "      <td>1.100000</td>\n",
       "      <td>7.900000</td>\n",
       "      <td>0.000000</td>\n",
       "      <td>2.200000</td>\n",
       "      <td>15.000000</td>\n",
       "      <td>0.400000</td>\n",
       "      <td>0.000000</td>\n",
       "      <td>0.000000</td>\n",
       "      <td>0.000000</td>\n",
       "    </tr>\n",
       "    <tr>\n",
       "      <th>25%</th>\n",
       "      <td>3.000000</td>\n",
       "      <td>4.000000</td>\n",
       "      <td>90.200000</td>\n",
       "      <td>68.600000</td>\n",
       "      <td>437.700000</td>\n",
       "      <td>6.500000</td>\n",
       "      <td>15.500000</td>\n",
       "      <td>33.000000</td>\n",
       "      <td>2.700000</td>\n",
       "      <td>0.000000</td>\n",
       "      <td>0.000000</td>\n",
       "      <td>0.000000</td>\n",
       "    </tr>\n",
       "    <tr>\n",
       "      <th>50%</th>\n",
       "      <td>4.000000</td>\n",
       "      <td>4.000000</td>\n",
       "      <td>91.600000</td>\n",
       "      <td>108.300000</td>\n",
       "      <td>664.200000</td>\n",
       "      <td>8.400000</td>\n",
       "      <td>19.300000</td>\n",
       "      <td>42.000000</td>\n",
       "      <td>4.000000</td>\n",
       "      <td>0.000000</td>\n",
       "      <td>0.520000</td>\n",
       "      <td>0.520000</td>\n",
       "    </tr>\n",
       "    <tr>\n",
       "      <th>75%</th>\n",
       "      <td>7.000000</td>\n",
       "      <td>5.000000</td>\n",
       "      <td>92.900000</td>\n",
       "      <td>142.400000</td>\n",
       "      <td>713.900000</td>\n",
       "      <td>10.800000</td>\n",
       "      <td>22.800000</td>\n",
       "      <td>53.000000</td>\n",
       "      <td>4.900000</td>\n",
       "      <td>0.000000</td>\n",
       "      <td>6.570000</td>\n",
       "      <td>6.570000</td>\n",
       "    </tr>\n",
       "    <tr>\n",
       "      <th>max</th>\n",
       "      <td>9.000000</td>\n",
       "      <td>9.000000</td>\n",
       "      <td>96.200000</td>\n",
       "      <td>291.300000</td>\n",
       "      <td>860.600000</td>\n",
       "      <td>56.100000</td>\n",
       "      <td>33.300000</td>\n",
       "      <td>100.000000</td>\n",
       "      <td>9.400000</td>\n",
       "      <td>6.400000</td>\n",
       "      <td>1090.840000</td>\n",
       "      <td>1090.840000</td>\n",
       "    </tr>\n",
       "  </tbody>\n",
       "</table>\n",
       "</div>"
      ],
      "text/plain": [
       "                X           Y        FFMC         DMC          DC         ISI  \\\n",
       "count  517.000000  517.000000  517.000000  517.000000  517.000000  517.000000   \n",
       "mean     4.669246    4.299807   90.644681  110.872340  547.940039    9.021663   \n",
       "std      2.313778    1.229900    5.520111   64.046482  248.066192    4.559477   \n",
       "min      1.000000    2.000000   18.700000    1.100000    7.900000    0.000000   \n",
       "25%      3.000000    4.000000   90.200000   68.600000  437.700000    6.500000   \n",
       "50%      4.000000    4.000000   91.600000  108.300000  664.200000    8.400000   \n",
       "75%      7.000000    5.000000   92.900000  142.400000  713.900000   10.800000   \n",
       "max      9.000000    9.000000   96.200000  291.300000  860.600000   56.100000   \n",
       "\n",
       "             temp          RH        wind        rain         area  \\\n",
       "count  517.000000  517.000000  517.000000  517.000000   517.000000   \n",
       "mean    18.889168   44.288201    4.017602    0.021663    12.847292   \n",
       "std      5.806625   16.317469    1.791653    0.295959    63.655818   \n",
       "min      2.200000   15.000000    0.400000    0.000000     0.000000   \n",
       "25%     15.500000   33.000000    2.700000    0.000000     0.000000   \n",
       "50%     19.300000   42.000000    4.000000    0.000000     0.520000   \n",
       "75%     22.800000   53.000000    4.900000    0.000000     6.570000   \n",
       "max     33.300000  100.000000    9.400000    6.400000  1090.840000   \n",
       "\n",
       "            target  \n",
       "count   517.000000  \n",
       "mean     12.847292  \n",
       "std      63.655818  \n",
       "min       0.000000  \n",
       "25%       0.000000  \n",
       "50%       0.520000  \n",
       "75%       6.570000  \n",
       "max    1090.840000  "
      ]
     },
     "execution_count": 4,
     "metadata": {},
     "output_type": "execute_result"
    }
   ],
   "source": [
    "data.describe()"
   ]
  },
  {
   "cell_type": "code",
   "execution_count": 5,
   "metadata": {},
   "outputs": [
    {
     "data": {
      "text/plain": [
       "12.847292069632491"
      ]
     },
     "execution_count": 5,
     "metadata": {},
     "output_type": "execute_result"
    }
   ],
   "source": [
    "#Cálculo da média\n",
    "Valor_medio_da_previsao_variavel_target = data['target'].mean()\n",
    "Valor_medio_da_previsao_variavel_target"
   ]
  },
  {
   "cell_type": "code",
   "execution_count": 6,
   "metadata": {},
   "outputs": [
    {
     "name": "stdout",
     "output_type": "stream",
     "text": [
      "Soma dos quadrados dos erros (SSE): 2090864.6\n"
     ]
    }
   ],
   "source": [
    "#Calculando o SSE\n",
    "squared_errors = pd.Series(Valor_medio_da_previsao_variavel_target - data['target'])**2\n",
    "SSE = np.sum(squared_errors)\n",
    "print ('Soma dos quadrados dos erros (SSE): %0.1f' %SSE)"
   ]
  },
  {
   "cell_type": "code",
   "execution_count": 7,
   "metadata": {},
   "outputs": [
    {
     "data": {
      "image/png": "[encoded data removed]",
      "text/plain": [
       "<Figure size 432x288 with 1 Axes>"
      ]
     },
     "metadata": {
      "needs_background": "light"
     },
     "output_type": "display_data"
    }
   ],
   "source": [
    "#histograma dos erros\n",
    "hist_plot = squared_errors.plot('hist')"
   ]
  },
  {
   "cell_type": "code",
   "execution_count": 8,
   "metadata": {},
   "outputs": [],
   "source": [
    "# Função para calcular o desvio padrão\n",
    "def calc_desvio_padrao(variable, bias = 0):\n",
    "    observations = float(len(variable))\n",
    "    return np.sqrt(np.sum((variable - np.mean(variable))**2) / (observations - min(bias, 1)))"
   ]
  },
  {
   "cell_type": "code",
   "execution_count": 9,
   "metadata": {},
   "outputs": [
    {
     "name": "stdout",
     "output_type": "stream",
     "text": [
      "Resultado da Função: 5.80101 Resultado do Numpy: 5.80101\n"
     ]
    }
   ],
   "source": [
    "# Imprimindo o desvio padrão via fórmula e via NumPy da variável temp\n",
    "print ('Resultado da Função: %0.5f Resultado do Numpy: %0.5f' % (calc_desvio_padrao(data['temp']), np.std(data['temp'])))"
   ]
  },
  {
   "cell_type": "code",
   "execution_count": 10,
   "metadata": {},
   "outputs": [],
   "source": [
    "# Funções para calcular a variância da variável temp e a correlação com a variável target\n",
    "def covariance(variable_1, variable_2, bias = 0):\n",
    "    observations = float(len(variable_1))\n",
    "    return np.sum((variable_1 - np.mean(variable_1)) * (variable_2 - np.mean(variable_2))) / (observations - min(bias,1))\n",
    "\n",
    "def standardize(variable):\n",
    "    return (variable - np.mean(variable)) / np.std(variable)\n",
    "\n",
    "def correlation(var1, var2, bias = 0):\n",
    "    return covariance(standardize(var1), standardize(var2), bias)"
   ]
  },
  {
   "cell_type": "code",
   "execution_count": 11,
   "metadata": {},
   "outputs": [
    {
     "name": "stdout",
     "output_type": "stream",
     "text": [
      "Nossa estimativa de Correlação: 0.09784\n",
      "Correlação a partir da função pearsonr do SciPy: 0.09784\n"
     ]
    }
   ],
   "source": [
    "# Compara o resultado das nossas funções com a função pearsonr do SciPy\n",
    "from scipy.stats.stats import pearsonr\n",
    "print ('Nossa estimativa de Correlação: %0.5f' % (correlation(data['temp'], data['target'])))\n",
    "print ('Correlação a partir da função pearsonr do SciPy: %0.5f' % pearsonr(data['temp'], data['target'])[0])"
   ]
  },
  {
   "cell_type": "code",
   "execution_count": 12,
   "metadata": {},
   "outputs": [],
   "source": [
    "# Definindo o range dos valores de x e y\n",
    "x_range = [data['temp'].min(),data['temp'].max()]\n",
    "y_range = [data['target'].min(),data['target'].max()]"
   ]
  },
  {
   "cell_type": "code",
   "execution_count": 13,
   "metadata": {},
   "outputs": [
    {
     "data": {
      "image/png": "[encoded data removed]",
      "text/plain": [
       "<Figure size 432x288 with 1 Axes>"
      ]
     },
     "metadata": {
      "needs_background": "light"
     },
     "output_type": "display_data"
    }
   ],
   "source": [
    "# Plot dos valores de x e y com a média\n",
    "scatter_plot = data.plot(kind = 'scatter', x = 'temp', y = 'target', xlim = x_range, ylim = y_range)\n",
    "\n",
    "# Cálculo da média\n",
    "meanY = scatter_plot.plot(x_range, [data['target'].mean(),data['target'].mean()], '--', color = 'red', linewidth = 1)\n",
    "meanX = scatter_plot.plot([data['temp'].mean(), data['temp'].mean()], y_range, '--', color = 'red', linewidth = 1)"
   ]
  },
  {
   "cell_type": "code",
   "execution_count": 14,
   "metadata": {},
   "outputs": [],
   "source": [
    "# Gerando número de observações e variáveis\n",
    "observations = len(data)\n",
    "variables = data.columns[:-1]"
   ]
  },
  {
   "cell_type": "code",
   "execution_count": 15,
   "metadata": {},
   "outputs": [],
   "source": [
    "# Coletando x e y\n",
    "X = data[['FFMC','DMC','DC', 'ISI','temp', 'RH', 'wind', 'rain']]\n",
    "y = data['target'].values"
   ]
  },
  {
   "cell_type": "code",
   "execution_count": 16,
   "metadata": {},
   "outputs": [
    {
     "data": {
      "text/html": [
       "<div>\n",
       "<style scoped>\n",
       "    .dataframe tbody tr th:only-of-type {\n",
       "        vertical-align: middle;\n",
       "    }\n",
       "\n",
       "    .dataframe tbody tr th {\n",
       "        vertical-align: top;\n",
       "    }\n",
       "\n",
       "    .dataframe thead th {\n",
       "        text-align: right;\n",
       "    }\n",
       "</style>\n",
       "<table border=\"1\" class=\"dataframe\">\n",
       "  <thead>\n",
       "    <tr style=\"text-align: right;\">\n",
       "      <th></th>\n",
       "      <th>FFMC</th>\n",
       "      <th>DMC</th>\n",
       "      <th>DC</th>\n",
       "      <th>ISI</th>\n",
       "      <th>temp</th>\n",
       "      <th>RH</th>\n",
       "      <th>wind</th>\n",
       "      <th>rain</th>\n",
       "    </tr>\n",
       "  </thead>\n",
       "  <tbody>\n",
       "    <tr>\n",
       "      <th>0</th>\n",
       "      <td>86.2</td>\n",
       "      <td>26.2</td>\n",
       "      <td>94.3</td>\n",
       "      <td>5.1</td>\n",
       "      <td>8.2</td>\n",
       "      <td>51</td>\n",
       "      <td>6.7</td>\n",
       "      <td>0.0</td>\n",
       "    </tr>\n",
       "    <tr>\n",
       "      <th>1</th>\n",
       "      <td>90.6</td>\n",
       "      <td>35.4</td>\n",
       "      <td>669.1</td>\n",
       "      <td>6.7</td>\n",
       "      <td>18.0</td>\n",
       "      <td>33</td>\n",
       "      <td>0.9</td>\n",
       "      <td>0.0</td>\n",
       "    </tr>\n",
       "    <tr>\n",
       "      <th>2</th>\n",
       "      <td>90.6</td>\n",
       "      <td>43.7</td>\n",
       "      <td>686.9</td>\n",
       "      <td>6.7</td>\n",
       "      <td>14.6</td>\n",
       "      <td>33</td>\n",
       "      <td>1.3</td>\n",
       "      <td>0.0</td>\n",
       "    </tr>\n",
       "    <tr>\n",
       "      <th>3</th>\n",
       "      <td>91.7</td>\n",
       "      <td>33.3</td>\n",
       "      <td>77.5</td>\n",
       "      <td>9.0</td>\n",
       "      <td>8.3</td>\n",
       "      <td>97</td>\n",
       "      <td>4.0</td>\n",
       "      <td>0.2</td>\n",
       "    </tr>\n",
       "    <tr>\n",
       "      <th>4</th>\n",
       "      <td>89.3</td>\n",
       "      <td>51.3</td>\n",
       "      <td>102.2</td>\n",
       "      <td>9.6</td>\n",
       "      <td>11.4</td>\n",
       "      <td>99</td>\n",
       "      <td>1.8</td>\n",
       "      <td>0.0</td>\n",
       "    </tr>\n",
       "  </tbody>\n",
       "</table>\n",
       "</div>"
      ],
      "text/plain": [
       "   FFMC   DMC     DC  ISI  temp  RH  wind  rain\n",
       "0  86.2  26.2   94.3  5.1   8.2  51   6.7   0.0\n",
       "1  90.6  35.4  669.1  6.7  18.0  33   0.9   0.0\n",
       "2  90.6  43.7  686.9  6.7  14.6  33   1.3   0.0\n",
       "3  91.7  33.3   77.5  9.0   8.3  97   4.0   0.2\n",
       "4  89.3  51.3  102.2  9.6  11.4  99   1.8   0.0"
      ]
     },
     "execution_count": 16,
     "metadata": {},
     "output_type": "execute_result"
    }
   ],
   "source": [
    "# Variáveis explanatórias\n",
    "X.head()"
   ]
  },
  {
   "cell_type": "code",
   "execution_count": 17,
   "metadata": {},
   "outputs": [
    {
     "data": {
      "text/plain": [
       "array([0.00000e+00, 0.00000e+00, 0.00000e+00, 0.00000e+00, 0.00000e+00,\n",
       "       0.00000e+00, 0.00000e+00, 0.00000e+00, 0.00000e+00, 0.00000e+00,\n",
       "       0.00000e+00, 0.00000e+00, 0.00000e+00, 0.00000e+00, 0.00000e+00,\n",
       "       0.00000e+00, 0.00000e+00, 0.00000e+00, 0.00000e+00, 0.00000e+00,\n",
       "       0.00000e+00, 0.00000e+00, 0.00000e+00, 0.00000e+00, 0.00000e+00,\n",
       "       0.00000e+00, 0.00000e+00, 0.00000e+00, 0.00000e+00, 0.00000e+00,\n",
       "       0.00000e+00, 0.00000e+00, 0.00000e+00, 0.00000e+00, 0.00000e+00,\n",
       "       0.00000e+00, 0.00000e+00, 0.00000e+00, 0.00000e+00, 0.00000e+00,\n",
       "       0.00000e+00, 0.00000e+00, 0.00000e+00, 0.00000e+00, 0.00000e+00,\n",
       "       0.00000e+00, 0.00000e+00, 0.00000e+00, 0.00000e+00, 0.00000e+00,\n",
       "       0.00000e+00, 0.00000e+00, 0.00000e+00, 0.00000e+00, 0.00000e+00,\n",
       "       0.00000e+00, 0.00000e+00, 0.00000e+00, 0.00000e+00, 0.00000e+00,\n",
       "       0.00000e+00, 0.00000e+00, 0.00000e+00, 0.00000e+00, 0.00000e+00,\n",
       "       0.00000e+00, 0.00000e+00, 0.00000e+00, 0.00000e+00, 0.00000e+00,\n",
       "       0.00000e+00, 0.00000e+00, 0.00000e+00, 0.00000e+00, 0.00000e+00,\n",
       "       0.00000e+00, 0.00000e+00, 0.00000e+00, 0.00000e+00, 0.00000e+00,\n",
       "       0.00000e+00, 0.00000e+00, 0.00000e+00, 0.00000e+00, 0.00000e+00,\n",
       "       0.00000e+00, 0.00000e+00, 0.00000e+00, 0.00000e+00, 0.00000e+00,\n",
       "       0.00000e+00, 0.00000e+00, 0.00000e+00, 0.00000e+00, 0.00000e+00,\n",
       "       0.00000e+00, 0.00000e+00, 0.00000e+00, 0.00000e+00, 0.00000e+00,\n",
       "       0.00000e+00, 0.00000e+00, 0.00000e+00, 0.00000e+00, 0.00000e+00,\n",
       "       0.00000e+00, 0.00000e+00, 0.00000e+00, 0.00000e+00, 0.00000e+00,\n",
       "       0.00000e+00, 0.00000e+00, 0.00000e+00, 0.00000e+00, 0.00000e+00,\n",
       "       0.00000e+00, 0.00000e+00, 0.00000e+00, 0.00000e+00, 0.00000e+00,\n",
       "       0.00000e+00, 0.00000e+00, 0.00000e+00, 0.00000e+00, 0.00000e+00,\n",
       "       0.00000e+00, 0.00000e+00, 0.00000e+00, 0.00000e+00, 0.00000e+00,\n",
       "       0.00000e+00, 0.00000e+00, 0.00000e+00, 0.00000e+00, 0.00000e+00,\n",
       "       0.00000e+00, 0.00000e+00, 0.00000e+00, 3.60000e-01, 4.30000e-01,\n",
       "       4.70000e-01, 5.50000e-01, 6.10000e-01, 7.10000e-01, 7.70000e-01,\n",
       "       9.00000e-01, 9.50000e-01, 9.60000e-01, 1.07000e+00, 1.12000e+00,\n",
       "       1.19000e+00, 1.36000e+00, 1.43000e+00, 1.46000e+00, 1.46000e+00,\n",
       "       1.56000e+00, 1.61000e+00, 1.63000e+00, 1.64000e+00, 1.69000e+00,\n",
       "       1.75000e+00, 1.90000e+00, 1.94000e+00, 1.95000e+00, 2.01000e+00,\n",
       "       2.14000e+00, 2.29000e+00, 2.51000e+00, 2.53000e+00, 2.55000e+00,\n",
       "       2.57000e+00, 2.69000e+00, 2.74000e+00, 3.07000e+00, 3.50000e+00,\n",
       "       4.53000e+00, 4.61000e+00, 4.69000e+00, 4.88000e+00, 5.23000e+00,\n",
       "       5.33000e+00, 5.44000e+00, 6.38000e+00, 6.83000e+00, 6.96000e+00,\n",
       "       7.04000e+00, 7.19000e+00, 7.30000e+00, 7.40000e+00, 8.24000e+00,\n",
       "       8.31000e+00, 8.68000e+00, 8.71000e+00, 9.41000e+00, 1.00100e+01,\n",
       "       1.00200e+01, 1.09300e+01, 1.10600e+01, 1.12400e+01, 1.13200e+01,\n",
       "       1.15300e+01, 1.21000e+01, 1.30500e+01, 1.37000e+01, 1.39900e+01,\n",
       "       1.45700e+01, 1.54500e+01, 1.72000e+01, 1.92300e+01, 2.34100e+01,\n",
       "       2.42300e+01, 2.60000e+01, 2.61300e+01, 2.73500e+01, 2.86600e+01,\n",
       "       2.86600e+01, 2.94800e+01, 3.03200e+01, 3.17200e+01, 3.18600e+01,\n",
       "       3.20700e+01, 3.58800e+01, 3.68500e+01, 3.70200e+01, 3.77100e+01,\n",
       "       4.85500e+01, 4.93700e+01, 5.83000e+01, 6.41000e+01, 7.13000e+01,\n",
       "       8.84900e+01, 9.51800e+01, 1.03390e+02, 1.05660e+02, 1.54880e+02,\n",
       "       1.96480e+02, 2.00940e+02, 2.12880e+02, 1.09084e+03, 0.00000e+00,\n",
       "       0.00000e+00, 0.00000e+00, 1.01300e+01, 0.00000e+00, 2.87000e+00,\n",
       "       7.60000e-01, 9.00000e-02, 7.50000e-01, 0.00000e+00, 2.47000e+00,\n",
       "       6.80000e-01, 2.40000e-01, 2.10000e-01, 1.52000e+00, 1.03400e+01,\n",
       "       0.00000e+00, 8.02000e+00, 6.80000e-01, 0.00000e+00, 1.38000e+00,\n",
       "       8.85000e+00, 3.30000e+00, 4.25000e+00, 1.56000e+00, 6.54000e+00,\n",
       "       7.90000e-01, 1.70000e-01, 0.00000e+00, 0.00000e+00, 4.40000e+00,\n",
       "       5.20000e-01, 9.27000e+00, 3.09000e+00, 8.98000e+00, 1.11900e+01,\n",
       "       5.38000e+00, 1.78500e+01, 1.07300e+01, 2.20300e+01, 9.77000e+00,\n",
       "       9.27000e+00, 2.47700e+01, 0.00000e+00, 1.10000e+00, 2.42400e+01,\n",
       "       0.00000e+00, 0.00000e+00, 0.00000e+00, 0.00000e+00, 0.00000e+00,\n",
       "       0.00000e+00, 8.00000e+00, 2.64000e+00, 8.64500e+01, 6.57000e+00,\n",
       "       0.00000e+00, 9.00000e-01, 0.00000e+00, 0.00000e+00, 0.00000e+00,\n",
       "       0.00000e+00, 3.52000e+00, 0.00000e+00, 0.00000e+00, 0.00000e+00,\n",
       "       0.00000e+00, 4.10000e-01, 5.18000e+00, 0.00000e+00, 0.00000e+00,\n",
       "       0.00000e+00, 1.42900e+01, 0.00000e+00, 0.00000e+00, 1.58000e+00,\n",
       "       0.00000e+00, 0.00000e+00, 3.78000e+00, 0.00000e+00, 4.41000e+00,\n",
       "       3.43600e+01, 7.21000e+00, 1.01000e+00, 2.18000e+00, 4.42000e+00,\n",
       "       0.00000e+00, 0.00000e+00, 0.00000e+00, 0.00000e+00, 3.33000e+00,\n",
       "       6.58000e+00, 1.56400e+01, 1.12200e+01, 2.13000e+00, 0.00000e+00,\n",
       "       0.00000e+00, 0.00000e+00, 5.60400e+01, 7.48000e+00, 1.47000e+00,\n",
       "       3.93000e+00, 0.00000e+00, 0.00000e+00, 2.18000e+00, 6.10000e+00,\n",
       "       5.83000e+00, 2.81900e+01, 0.00000e+00, 0.00000e+00, 1.64000e+00,\n",
       "       3.71000e+00, 7.31000e+00, 2.03000e+00, 1.72000e+00, 5.97000e+00,\n",
       "       1.30600e+01, 1.26000e+00, 0.00000e+00, 0.00000e+00, 8.12000e+00,\n",
       "       1.09000e+00, 3.94000e+00, 5.20000e-01, 2.93000e+00, 5.65000e+00,\n",
       "       2.00300e+01, 1.75000e+00, 0.00000e+00, 1.26400e+01, 0.00000e+00,\n",
       "       1.10600e+01, 0.00000e+00, 0.00000e+00, 0.00000e+00, 1.83000e+01,\n",
       "       3.93500e+01, 0.00000e+00, 1.74630e+02, 0.00000e+00, 0.00000e+00,\n",
       "       7.73000e+00, 1.63300e+01, 5.86000e+00, 4.28700e+01, 1.21800e+01,\n",
       "       1.60000e+01, 2.45900e+01, 0.00000e+00, 2.87400e+01, 0.00000e+00,\n",
       "       9.96000e+00, 3.01800e+01, 7.07600e+01, 0.00000e+00, 0.00000e+00,\n",
       "       5.17800e+01, 3.64000e+00, 3.63000e+00, 0.00000e+00, 0.00000e+00,\n",
       "       8.16000e+00, 4.95000e+00, 0.00000e+00, 0.00000e+00, 6.04000e+00,\n",
       "       0.00000e+00, 3.95000e+00, 0.00000e+00, 7.80000e+00, 0.00000e+00,\n",
       "       0.00000e+00, 4.62000e+00, 1.63000e+00, 0.00000e+00, 0.00000e+00,\n",
       "       7.46280e+02, 7.02000e+00, 0.00000e+00, 2.44000e+00, 3.05000e+00,\n",
       "       1.85760e+02, 0.00000e+00, 6.30000e+00, 7.20000e-01, 4.96000e+00,\n",
       "       0.00000e+00, 0.00000e+00, 2.35000e+00, 0.00000e+00, 3.20000e+00,\n",
       "       0.00000e+00, 6.36000e+00, 0.00000e+00, 1.53400e+01, 0.00000e+00,\n",
       "       0.00000e+00, 5.40000e-01, 0.00000e+00, 6.43000e+00, 3.30000e-01,\n",
       "       0.00000e+00, 1.23000e+00, 3.35000e+00, 0.00000e+00, 9.96000e+00,\n",
       "       0.00000e+00, 0.00000e+00, 0.00000e+00, 0.00000e+00, 0.00000e+00,\n",
       "       6.43000e+00, 9.71000e+00, 0.00000e+00, 0.00000e+00, 0.00000e+00,\n",
       "       0.00000e+00, 0.00000e+00, 8.27500e+01, 3.32000e+00, 1.94000e+00,\n",
       "       0.00000e+00, 0.00000e+00, 3.71000e+00, 5.39000e+00, 2.14000e+00,\n",
       "       6.84000e+00, 3.18000e+00, 5.55000e+00, 6.61000e+00, 6.11300e+01,\n",
       "       0.00000e+00, 3.84800e+01, 1.94000e+00, 7.03200e+01, 1.00800e+01,\n",
       "       3.19000e+00, 1.76000e+00, 7.36000e+00, 2.21000e+00, 2.78530e+02,\n",
       "       2.75000e+00, 0.00000e+00, 1.29000e+00, 0.00000e+00, 2.64300e+01,\n",
       "       2.07000e+00, 2.00000e+00, 1.64000e+01, 4.67000e+01, 0.00000e+00,\n",
       "       0.00000e+00, 0.00000e+00, 0.00000e+00, 4.33200e+01, 8.59000e+00,\n",
       "       0.00000e+00, 2.77000e+00, 1.46800e+01, 4.05400e+01, 1.08200e+01,\n",
       "       0.00000e+00, 0.00000e+00, 0.00000e+00, 1.95000e+00, 4.95900e+01,\n",
       "       5.80000e+00, 0.00000e+00, 0.00000e+00, 0.00000e+00, 2.17000e+00,\n",
       "       4.30000e-01, 0.00000e+00, 6.44000e+00, 5.42900e+01, 1.11600e+01,\n",
       "       0.00000e+00, 0.00000e+00])"
      ]
     },
     "execution_count": 17,
     "metadata": {},
     "output_type": "execute_result"
    }
   ],
   "source": [
    "# Variável target\n",
    "y"
   ]
  },
  {
   "cell_type": "markdown",
   "metadata": {},
   "source": [
    "# Usando multiplos atributos com statsmodels"
   ]
  },
  {
   "cell_type": "code",
   "execution_count": 18,
   "metadata": {},
   "outputs": [],
   "source": [
    "Xc = sm.add_constant(X)\n",
    "modelo = sm.OLS(y, Xc)\n",
    "modelo_v1 = modelo.fit()"
   ]
  },
  {
   "cell_type": "code",
   "execution_count": 19,
   "metadata": {},
   "outputs": [
    {
     "data": {
      "text/html": [
       "<table class=\"simpletable\">\n",
       "<caption>OLS Regression Results</caption>\n",
       "<tr>\n",
       "  <th>Dep. Variable:</th>            <td>y</td>        <th>  R-squared:         </th> <td>   0.016</td>\n",
       "</tr>\n",
       "<tr>\n",
       "  <th>Model:</th>                   <td>OLS</td>       <th>  Adj. R-squared:    </th> <td>   0.001</td>\n",
       "</tr>\n",
       "<tr>\n",
       "  <th>Method:</th>             <td>Least Squares</td>  <th>  F-statistic:       </th> <td>   1.033</td>\n",
       "</tr>\n",
       "<tr>\n",
       "  <th>Date:</th>             <td>Thu, 27 Feb 2020</td> <th>  Prob (F-statistic):</th>  <td> 0.410</td> \n",
       "</tr>\n",
       "<tr>\n",
       "  <th>Time:</th>                 <td>07:46:17</td>     <th>  Log-Likelihood:    </th> <td> -2876.3</td>\n",
       "</tr>\n",
       "<tr>\n",
       "  <th>No. Observations:</th>      <td>   517</td>      <th>  AIC:               </th> <td>   5771.</td>\n",
       "</tr>\n",
       "<tr>\n",
       "  <th>Df Residuals:</th>          <td>   508</td>      <th>  BIC:               </th> <td>   5809.</td>\n",
       "</tr>\n",
       "<tr>\n",
       "  <th>Df Model:</th>              <td>     8</td>      <th>                     </th>     <td> </td>   \n",
       "</tr>\n",
       "<tr>\n",
       "  <th>Covariance Type:</th>      <td>nonrobust</td>    <th>                     </th>     <td> </td>   \n",
       "</tr>\n",
       "</table>\n",
       "<table class=\"simpletable\">\n",
       "<tr>\n",
       "    <td></td>       <th>coef</th>     <th>std err</th>      <th>t</th>      <th>P>|t|</th>  <th>[0.025</th>    <th>0.975]</th>  \n",
       "</tr>\n",
       "<tr>\n",
       "  <th>const</th> <td>    2.4938</td> <td>   62.048</td> <td>    0.040</td> <td> 0.968</td> <td> -119.409</td> <td>  124.396</td>\n",
       "</tr>\n",
       "<tr>\n",
       "  <th>FFMC</th>  <td>   -0.0233</td> <td>    0.661</td> <td>   -0.035</td> <td> 0.972</td> <td>   -1.322</td> <td>    1.275</td>\n",
       "</tr>\n",
       "<tr>\n",
       "  <th>DMC</th>   <td>    0.0765</td> <td>    0.067</td> <td>    1.145</td> <td> 0.253</td> <td>   -0.055</td> <td>    0.208</td>\n",
       "</tr>\n",
       "<tr>\n",
       "  <th>DC</th>    <td>   -0.0057</td> <td>    0.016</td> <td>   -0.349</td> <td> 0.727</td> <td>   -0.038</td> <td>    0.026</td>\n",
       "</tr>\n",
       "<tr>\n",
       "  <th>ISI</th>   <td>   -0.6984</td> <td>    0.772</td> <td>   -0.905</td> <td> 0.366</td> <td>   -2.215</td> <td>    0.818</td>\n",
       "</tr>\n",
       "<tr>\n",
       "  <th>temp</th>  <td>    0.8480</td> <td>    0.787</td> <td>    1.077</td> <td> 0.282</td> <td>   -0.699</td> <td>    2.394</td>\n",
       "</tr>\n",
       "<tr>\n",
       "  <th>RH</th>    <td>   -0.1963</td> <td>    0.237</td> <td>   -0.829</td> <td> 0.407</td> <td>   -0.661</td> <td>    0.269</td>\n",
       "</tr>\n",
       "<tr>\n",
       "  <th>wind</th>  <td>    1.5271</td> <td>    1.670</td> <td>    0.914</td> <td> 0.361</td> <td>   -1.754</td> <td>    4.808</td>\n",
       "</tr>\n",
       "<tr>\n",
       "  <th>rain</th>  <td>   -2.5400</td> <td>    9.676</td> <td>   -0.263</td> <td> 0.793</td> <td>  -21.549</td> <td>   16.469</td>\n",
       "</tr>\n",
       "</table>\n",
       "<table class=\"simpletable\">\n",
       "<tr>\n",
       "  <th>Omnibus:</th>       <td>978.059</td> <th>  Durbin-Watson:     </th>  <td>   1.645</td> \n",
       "</tr>\n",
       "<tr>\n",
       "  <th>Prob(Omnibus):</th> <td> 0.000</td>  <th>  Jarque-Bera (JB):  </th> <td>792201.920</td>\n",
       "</tr>\n",
       "<tr>\n",
       "  <th>Skew:</th>          <td>12.652</td>  <th>  Prob(JB):          </th>  <td>    0.00</td> \n",
       "</tr>\n",
       "<tr>\n",
       "  <th>Kurtosis:</th>      <td>193.092</td> <th>  Cond. No.          </th>  <td>1.38e+04</td> \n",
       "</tr>\n",
       "</table><br/><br/>Warnings:<br/>[1] Standard Errors assume that the covariance matrix of the errors is correctly specified.<br/>[2] The condition number is large, 1.38e+04. This might indicate that there are<br/>strong multicollinearity or other numerical problems."
      ],
      "text/plain": [
       "<class 'statsmodels.iolib.summary.Summary'>\n",
       "\"\"\"\n",
       "                            OLS Regression Results                            \n",
       "==============================================================================\n",
       "Dep. Variable:                      y   R-squared:                       0.016\n",
       "Model:                            OLS   Adj. R-squared:                  0.001\n",
       "Method:                 Least Squares   F-statistic:                     1.033\n",
       "Date:                Thu, 27 Feb 2020   Prob (F-statistic):              0.410\n",
       "Time:                        07:46:17   Log-Likelihood:                -2876.3\n",
       "No. Observations:                 517   AIC:                             5771.\n",
       "Df Residuals:                     508   BIC:                             5809.\n",
       "Df Model:                           8                                         \n",
       "Covariance Type:            nonrobust                                         \n",
       "==============================================================================\n",
       "                 coef    std err          t      P>|t|      [0.025      0.975]\n",
       "------------------------------------------------------------------------------\n",
       "const          2.4938     62.048      0.040      0.968    -119.409     124.396\n",
       "FFMC          -0.0233      0.661     -0.035      0.972      -1.322       1.275\n",
       "DMC            0.0765      0.067      1.145      0.253      -0.055       0.208\n",
       "DC            -0.0057      0.016     -0.349      0.727      -0.038       0.026\n",
       "ISI           -0.6984      0.772     -0.905      0.366      -2.215       0.818\n",
       "temp           0.8480      0.787      1.077      0.282      -0.699       2.394\n",
       "RH            -0.1963      0.237     -0.829      0.407      -0.661       0.269\n",
       "wind           1.5271      1.670      0.914      0.361      -1.754       4.808\n",
       "rain          -2.5400      9.676     -0.263      0.793     -21.549      16.469\n",
       "==============================================================================\n",
       "Omnibus:                      978.059   Durbin-Watson:                   1.645\n",
       "Prob(Omnibus):                  0.000   Jarque-Bera (JB):           792201.920\n",
       "Skew:                          12.652   Prob(JB):                         0.00\n",
       "Kurtosis:                     193.092   Cond. No.                     1.38e+04\n",
       "==============================================================================\n",
       "\n",
       "Warnings:\n",
       "[1] Standard Errors assume that the covariance matrix of the errors is correctly specified.\n",
       "[2] The condition number is large, 1.38e+04. This might indicate that there are\n",
       "strong multicollinearity or other numerical problems.\n",
       "\"\"\""
      ]
     },
     "execution_count": 19,
     "metadata": {},
     "output_type": "execute_result"
    }
   ],
   "source": [
    "modelo_v1.summary()"
   ]
  },
  {
   "cell_type": "code",
   "execution_count": 20,
   "metadata": {},
   "outputs": [
    {
     "name": "stdout",
     "output_type": "stream",
     "text": [
      "          FFMC       DMC        DC       ISI      temp        RH      wind  \\\n",
      "FFMC  1.000000  0.382619  0.330512  0.531805  0.431532 -0.300995 -0.028485   \n",
      "DMC   0.382619  1.000000  0.682192  0.305128  0.469594  0.073795 -0.105342   \n",
      "DC    0.330512  0.682192  1.000000  0.229154  0.496208 -0.039192 -0.203466   \n",
      "ISI   0.531805  0.305128  0.229154  1.000000  0.394287 -0.132517  0.106826   \n",
      "temp  0.431532  0.469594  0.496208  0.394287  1.000000 -0.527390 -0.227116   \n",
      "RH   -0.300995  0.073795 -0.039192 -0.132517 -0.527390  1.000000  0.069410   \n",
      "wind -0.028485 -0.105342 -0.203466  0.106826 -0.227116  0.069410  1.000000   \n",
      "rain  0.056702  0.074790  0.035861  0.067668  0.069491  0.099751  0.061119   \n",
      "\n",
      "          rain  \n",
      "FFMC  0.056702  \n",
      "DMC   0.074790  \n",
      "DC    0.035861  \n",
      "ISI   0.067668  \n",
      "temp  0.069491  \n",
      "RH    0.099751  \n",
      "wind  0.061119  \n",
      "rain  1.000000  \n"
     ]
    }
   ],
   "source": [
    "# Gerando a matriz\n",
    "X = data[['FFMC','DMC','DC', 'ISI','temp', 'RH', 'wind', 'rain']]\n",
    "matriz_corr = X.corr()\n",
    "print (matriz_corr)"
   ]
  },
  {
   "cell_type": "code",
   "execution_count": 21,
   "metadata": {},
   "outputs": [],
   "source": [
    "# Criando um Correlation Plot\n",
    "def visualize_correlation_matrix(data, hurdle = 0.0):\n",
    "    R = np.corrcoef(data, rowvar = 0)\n",
    "    R[np.where(np.abs(R) < hurdle)] = 0.0\n",
    "    heatmap = plt.pcolor(R, cmap = mpl.cm.coolwarm, alpha = 0.8)\n",
    "    heatmap.axes.set_frame_on(False)\n",
    "    heatmap.axes.set_yticks(np.arange(R.shape[0]) + 0.5, minor = False)\n",
    "    heatmap.axes.set_xticks(np.arange(R.shape[1]) + 0.5, minor = False)\n",
    "    heatmap.axes.set_xticklabels(variables, minor = False)\n",
    "    plt.xticks(rotation=90)\n",
    "    heatmap.axes.set_yticklabels(variables, minor = False)\n",
    "    plt.tick_params(axis = 'both', which = 'both', bottom = 'off', top = 'off', left = 'off', right = 'off') \n",
    "    plt.colorbar()\n",
    "    plt.show()"
   ]
  },
  {
   "cell_type": "code",
   "execution_count": 22,
   "metadata": {},
   "outputs": [
    {
     "data": {
      "image/png": "[encoded data removed]",
      "text/plain": [
       "<Figure size 432x288 with 2 Axes>"
      ]
     },
     "metadata": {
      "needs_background": "light"
     },
     "output_type": "display_data"
    }
   ],
   "source": [
    "# Visualizando o Plot\n",
    "visualize_correlation_matrix(X, hurdle = 0.5)"
   ]
  },
  {
   "cell_type": "markdown",
   "metadata": {},
   "source": [
    "# Fazendo previsões com o Modelo de Regressão Linear Múltipla"
   ]
  },
  {
   "cell_type": "code",
   "execution_count": 23,
   "metadata": {},
   "outputs": [],
   "source": [
    "# Imports\n",
    "import numpy as np\n",
    "import pandas as pd\n",
    "from sklearn.model_selection import train_test_split\n",
    "from sklearn.linear_model import LinearRegression\n",
    "from sklearn.metrics import r2_score"
   ]
  },
  {
   "cell_type": "code",
   "execution_count": 24,
   "metadata": {},
   "outputs": [],
   "source": [
    "# Carregando o dataset\n",
    "data = pd.read_csv('forest.csv')\n",
    "data['target'] = data.area"
   ]
  },
  {
   "cell_type": "code",
   "execution_count": 25,
   "metadata": {},
   "outputs": [
    {
     "name": "stdout",
     "output_type": "stream",
     "text": [
      "fire forest dataset tem 517 observações com 14 variáveis cada uma.\n"
     ]
    }
   ],
   "source": [
    "# Formato do Dataset\n",
    "print(\"fire forest dataset tem {} observações com {} variáveis cada uma.\".format(*data.shape))"
   ]
  },
  {
   "cell_type": "code",
   "execution_count": 26,
   "metadata": {},
   "outputs": [],
   "source": [
    "# Coletando x e y\n",
    "# Usaremos como variáveis explanatórias somente as 8 variáveis \n",
    "X = data[['FFMC', 'DMC', 'DC', 'ISI', 'temp', 'RH', 'wind', 'rain']]\n",
    "y = data['target'].values"
   ]
  },
  {
   "cell_type": "code",
   "execution_count": 27,
   "metadata": {},
   "outputs": [
    {
     "data": {
      "text/html": [
       "<div>\n",
       "<style scoped>\n",
       "    .dataframe tbody tr th:only-of-type {\n",
       "        vertical-align: middle;\n",
       "    }\n",
       "\n",
       "    .dataframe tbody tr th {\n",
       "        vertical-align: top;\n",
       "    }\n",
       "\n",
       "    .dataframe thead th {\n",
       "        text-align: right;\n",
       "    }\n",
       "</style>\n",
       "<table border=\"1\" class=\"dataframe\">\n",
       "  <thead>\n",
       "    <tr style=\"text-align: right;\">\n",
       "      <th></th>\n",
       "      <th>FFMC</th>\n",
       "      <th>DMC</th>\n",
       "      <th>DC</th>\n",
       "      <th>ISI</th>\n",
       "      <th>temp</th>\n",
       "      <th>RH</th>\n",
       "      <th>wind</th>\n",
       "      <th>rain</th>\n",
       "    </tr>\n",
       "  </thead>\n",
       "  <tbody>\n",
       "    <tr>\n",
       "      <th>0</th>\n",
       "      <td>86.2</td>\n",
       "      <td>26.2</td>\n",
       "      <td>94.3</td>\n",
       "      <td>5.1</td>\n",
       "      <td>8.2</td>\n",
       "      <td>51</td>\n",
       "      <td>6.7</td>\n",
       "      <td>0.0</td>\n",
       "    </tr>\n",
       "    <tr>\n",
       "      <th>1</th>\n",
       "      <td>90.6</td>\n",
       "      <td>35.4</td>\n",
       "      <td>669.1</td>\n",
       "      <td>6.7</td>\n",
       "      <td>18.0</td>\n",
       "      <td>33</td>\n",
       "      <td>0.9</td>\n",
       "      <td>0.0</td>\n",
       "    </tr>\n",
       "    <tr>\n",
       "      <th>2</th>\n",
       "      <td>90.6</td>\n",
       "      <td>43.7</td>\n",
       "      <td>686.9</td>\n",
       "      <td>6.7</td>\n",
       "      <td>14.6</td>\n",
       "      <td>33</td>\n",
       "      <td>1.3</td>\n",
       "      <td>0.0</td>\n",
       "    </tr>\n",
       "    <tr>\n",
       "      <th>3</th>\n",
       "      <td>91.7</td>\n",
       "      <td>33.3</td>\n",
       "      <td>77.5</td>\n",
       "      <td>9.0</td>\n",
       "      <td>8.3</td>\n",
       "      <td>97</td>\n",
       "      <td>4.0</td>\n",
       "      <td>0.2</td>\n",
       "    </tr>\n",
       "    <tr>\n",
       "      <th>4</th>\n",
       "      <td>89.3</td>\n",
       "      <td>51.3</td>\n",
       "      <td>102.2</td>\n",
       "      <td>9.6</td>\n",
       "      <td>11.4</td>\n",
       "      <td>99</td>\n",
       "      <td>1.8</td>\n",
       "      <td>0.0</td>\n",
       "    </tr>\n",
       "  </tbody>\n",
       "</table>\n",
       "</div>"
      ],
      "text/plain": [
       "   FFMC   DMC     DC  ISI  temp  RH  wind  rain\n",
       "0  86.2  26.2   94.3  5.1   8.2  51   6.7   0.0\n",
       "1  90.6  35.4  669.1  6.7  18.0  33   0.9   0.0\n",
       "2  90.6  43.7  686.9  6.7  14.6  33   1.3   0.0\n",
       "3  91.7  33.3   77.5  9.0   8.3  97   4.0   0.2\n",
       "4  89.3  51.3  102.2  9.6  11.4  99   1.8   0.0"
      ]
     },
     "execution_count": 27,
     "metadata": {},
     "output_type": "execute_result"
    }
   ],
   "source": [
    "X.head()"
   ]
  },
  {
   "cell_type": "code",
   "execution_count": 28,
   "metadata": {},
   "outputs": [
    {
     "data": {
      "text/plain": [
       "array([0.00000e+00, 0.00000e+00, 0.00000e+00, 0.00000e+00, 0.00000e+00,\n",
       "       0.00000e+00, 0.00000e+00, 0.00000e+00, 0.00000e+00, 0.00000e+00,\n",
       "       0.00000e+00, 0.00000e+00, 0.00000e+00, 0.00000e+00, 0.00000e+00,\n",
       "       0.00000e+00, 0.00000e+00, 0.00000e+00, 0.00000e+00, 0.00000e+00,\n",
       "       0.00000e+00, 0.00000e+00, 0.00000e+00, 0.00000e+00, 0.00000e+00,\n",
       "       0.00000e+00, 0.00000e+00, 0.00000e+00, 0.00000e+00, 0.00000e+00,\n",
       "       0.00000e+00, 0.00000e+00, 0.00000e+00, 0.00000e+00, 0.00000e+00,\n",
       "       0.00000e+00, 0.00000e+00, 0.00000e+00, 0.00000e+00, 0.00000e+00,\n",
       "       0.00000e+00, 0.00000e+00, 0.00000e+00, 0.00000e+00, 0.00000e+00,\n",
       "       0.00000e+00, 0.00000e+00, 0.00000e+00, 0.00000e+00, 0.00000e+00,\n",
       "       0.00000e+00, 0.00000e+00, 0.00000e+00, 0.00000e+00, 0.00000e+00,\n",
       "       0.00000e+00, 0.00000e+00, 0.00000e+00, 0.00000e+00, 0.00000e+00,\n",
       "       0.00000e+00, 0.00000e+00, 0.00000e+00, 0.00000e+00, 0.00000e+00,\n",
       "       0.00000e+00, 0.00000e+00, 0.00000e+00, 0.00000e+00, 0.00000e+00,\n",
       "       0.00000e+00, 0.00000e+00, 0.00000e+00, 0.00000e+00, 0.00000e+00,\n",
       "       0.00000e+00, 0.00000e+00, 0.00000e+00, 0.00000e+00, 0.00000e+00,\n",
       "       0.00000e+00, 0.00000e+00, 0.00000e+00, 0.00000e+00, 0.00000e+00,\n",
       "       0.00000e+00, 0.00000e+00, 0.00000e+00, 0.00000e+00, 0.00000e+00,\n",
       "       0.00000e+00, 0.00000e+00, 0.00000e+00, 0.00000e+00, 0.00000e+00,\n",
       "       0.00000e+00, 0.00000e+00, 0.00000e+00, 0.00000e+00, 0.00000e+00,\n",
       "       0.00000e+00, 0.00000e+00, 0.00000e+00, 0.00000e+00, 0.00000e+00,\n",
       "       0.00000e+00, 0.00000e+00, 0.00000e+00, 0.00000e+00, 0.00000e+00,\n",
       "       0.00000e+00, 0.00000e+00, 0.00000e+00, 0.00000e+00, 0.00000e+00,\n",
       "       0.00000e+00, 0.00000e+00, 0.00000e+00, 0.00000e+00, 0.00000e+00,\n",
       "       0.00000e+00, 0.00000e+00, 0.00000e+00, 0.00000e+00, 0.00000e+00,\n",
       "       0.00000e+00, 0.00000e+00, 0.00000e+00, 0.00000e+00, 0.00000e+00,\n",
       "       0.00000e+00, 0.00000e+00, 0.00000e+00, 0.00000e+00, 0.00000e+00,\n",
       "       0.00000e+00, 0.00000e+00, 0.00000e+00, 3.60000e-01, 4.30000e-01,\n",
       "       4.70000e-01, 5.50000e-01, 6.10000e-01, 7.10000e-01, 7.70000e-01,\n",
       "       9.00000e-01, 9.50000e-01, 9.60000e-01, 1.07000e+00, 1.12000e+00,\n",
       "       1.19000e+00, 1.36000e+00, 1.43000e+00, 1.46000e+00, 1.46000e+00,\n",
       "       1.56000e+00, 1.61000e+00, 1.63000e+00, 1.64000e+00, 1.69000e+00,\n",
       "       1.75000e+00, 1.90000e+00, 1.94000e+00, 1.95000e+00, 2.01000e+00,\n",
       "       2.14000e+00, 2.29000e+00, 2.51000e+00, 2.53000e+00, 2.55000e+00,\n",
       "       2.57000e+00, 2.69000e+00, 2.74000e+00, 3.07000e+00, 3.50000e+00,\n",
       "       4.53000e+00, 4.61000e+00, 4.69000e+00, 4.88000e+00, 5.23000e+00,\n",
       "       5.33000e+00, 5.44000e+00, 6.38000e+00, 6.83000e+00, 6.96000e+00,\n",
       "       7.04000e+00, 7.19000e+00, 7.30000e+00, 7.40000e+00, 8.24000e+00,\n",
       "       8.31000e+00, 8.68000e+00, 8.71000e+00, 9.41000e+00, 1.00100e+01,\n",
       "       1.00200e+01, 1.09300e+01, 1.10600e+01, 1.12400e+01, 1.13200e+01,\n",
       "       1.15300e+01, 1.21000e+01, 1.30500e+01, 1.37000e+01, 1.39900e+01,\n",
       "       1.45700e+01, 1.54500e+01, 1.72000e+01, 1.92300e+01, 2.34100e+01,\n",
       "       2.42300e+01, 2.60000e+01, 2.61300e+01, 2.73500e+01, 2.86600e+01,\n",
       "       2.86600e+01, 2.94800e+01, 3.03200e+01, 3.17200e+01, 3.18600e+01,\n",
       "       3.20700e+01, 3.58800e+01, 3.68500e+01, 3.70200e+01, 3.77100e+01,\n",
       "       4.85500e+01, 4.93700e+01, 5.83000e+01, 6.41000e+01, 7.13000e+01,\n",
       "       8.84900e+01, 9.51800e+01, 1.03390e+02, 1.05660e+02, 1.54880e+02,\n",
       "       1.96480e+02, 2.00940e+02, 2.12880e+02, 1.09084e+03, 0.00000e+00,\n",
       "       0.00000e+00, 0.00000e+00, 1.01300e+01, 0.00000e+00, 2.87000e+00,\n",
       "       7.60000e-01, 9.00000e-02, 7.50000e-01, 0.00000e+00, 2.47000e+00,\n",
       "       6.80000e-01, 2.40000e-01, 2.10000e-01, 1.52000e+00, 1.03400e+01,\n",
       "       0.00000e+00, 8.02000e+00, 6.80000e-01, 0.00000e+00, 1.38000e+00,\n",
       "       8.85000e+00, 3.30000e+00, 4.25000e+00, 1.56000e+00, 6.54000e+00,\n",
       "       7.90000e-01, 1.70000e-01, 0.00000e+00, 0.00000e+00, 4.40000e+00,\n",
       "       5.20000e-01, 9.27000e+00, 3.09000e+00, 8.98000e+00, 1.11900e+01,\n",
       "       5.38000e+00, 1.78500e+01, 1.07300e+01, 2.20300e+01, 9.77000e+00,\n",
       "       9.27000e+00, 2.47700e+01, 0.00000e+00, 1.10000e+00, 2.42400e+01,\n",
       "       0.00000e+00, 0.00000e+00, 0.00000e+00, 0.00000e+00, 0.00000e+00,\n",
       "       0.00000e+00, 8.00000e+00, 2.64000e+00, 8.64500e+01, 6.57000e+00,\n",
       "       0.00000e+00, 9.00000e-01, 0.00000e+00, 0.00000e+00, 0.00000e+00,\n",
       "       0.00000e+00, 3.52000e+00, 0.00000e+00, 0.00000e+00, 0.00000e+00,\n",
       "       0.00000e+00, 4.10000e-01, 5.18000e+00, 0.00000e+00, 0.00000e+00,\n",
       "       0.00000e+00, 1.42900e+01, 0.00000e+00, 0.00000e+00, 1.58000e+00,\n",
       "       0.00000e+00, 0.00000e+00, 3.78000e+00, 0.00000e+00, 4.41000e+00,\n",
       "       3.43600e+01, 7.21000e+00, 1.01000e+00, 2.18000e+00, 4.42000e+00,\n",
       "       0.00000e+00, 0.00000e+00, 0.00000e+00, 0.00000e+00, 3.33000e+00,\n",
       "       6.58000e+00, 1.56400e+01, 1.12200e+01, 2.13000e+00, 0.00000e+00,\n",
       "       0.00000e+00, 0.00000e+00, 5.60400e+01, 7.48000e+00, 1.47000e+00,\n",
       "       3.93000e+00, 0.00000e+00, 0.00000e+00, 2.18000e+00, 6.10000e+00,\n",
       "       5.83000e+00, 2.81900e+01, 0.00000e+00, 0.00000e+00, 1.64000e+00,\n",
       "       3.71000e+00, 7.31000e+00, 2.03000e+00, 1.72000e+00, 5.97000e+00,\n",
       "       1.30600e+01, 1.26000e+00, 0.00000e+00, 0.00000e+00, 8.12000e+00,\n",
       "       1.09000e+00, 3.94000e+00, 5.20000e-01, 2.93000e+00, 5.65000e+00,\n",
       "       2.00300e+01, 1.75000e+00, 0.00000e+00, 1.26400e+01, 0.00000e+00,\n",
       "       1.10600e+01, 0.00000e+00, 0.00000e+00, 0.00000e+00, 1.83000e+01,\n",
       "       3.93500e+01, 0.00000e+00, 1.74630e+02, 0.00000e+00, 0.00000e+00,\n",
       "       7.73000e+00, 1.63300e+01, 5.86000e+00, 4.28700e+01, 1.21800e+01,\n",
       "       1.60000e+01, 2.45900e+01, 0.00000e+00, 2.87400e+01, 0.00000e+00,\n",
       "       9.96000e+00, 3.01800e+01, 7.07600e+01, 0.00000e+00, 0.00000e+00,\n",
       "       5.17800e+01, 3.64000e+00, 3.63000e+00, 0.00000e+00, 0.00000e+00,\n",
       "       8.16000e+00, 4.95000e+00, 0.00000e+00, 0.00000e+00, 6.04000e+00,\n",
       "       0.00000e+00, 3.95000e+00, 0.00000e+00, 7.80000e+00, 0.00000e+00,\n",
       "       0.00000e+00, 4.62000e+00, 1.63000e+00, 0.00000e+00, 0.00000e+00,\n",
       "       7.46280e+02, 7.02000e+00, 0.00000e+00, 2.44000e+00, 3.05000e+00,\n",
       "       1.85760e+02, 0.00000e+00, 6.30000e+00, 7.20000e-01, 4.96000e+00,\n",
       "       0.00000e+00, 0.00000e+00, 2.35000e+00, 0.00000e+00, 3.20000e+00,\n",
       "       0.00000e+00, 6.36000e+00, 0.00000e+00, 1.53400e+01, 0.00000e+00,\n",
       "       0.00000e+00, 5.40000e-01, 0.00000e+00, 6.43000e+00, 3.30000e-01,\n",
       "       0.00000e+00, 1.23000e+00, 3.35000e+00, 0.00000e+00, 9.96000e+00,\n",
       "       0.00000e+00, 0.00000e+00, 0.00000e+00, 0.00000e+00, 0.00000e+00,\n",
       "       6.43000e+00, 9.71000e+00, 0.00000e+00, 0.00000e+00, 0.00000e+00,\n",
       "       0.00000e+00, 0.00000e+00, 8.27500e+01, 3.32000e+00, 1.94000e+00,\n",
       "       0.00000e+00, 0.00000e+00, 3.71000e+00, 5.39000e+00, 2.14000e+00,\n",
       "       6.84000e+00, 3.18000e+00, 5.55000e+00, 6.61000e+00, 6.11300e+01,\n",
       "       0.00000e+00, 3.84800e+01, 1.94000e+00, 7.03200e+01, 1.00800e+01,\n",
       "       3.19000e+00, 1.76000e+00, 7.36000e+00, 2.21000e+00, 2.78530e+02,\n",
       "       2.75000e+00, 0.00000e+00, 1.29000e+00, 0.00000e+00, 2.64300e+01,\n",
       "       2.07000e+00, 2.00000e+00, 1.64000e+01, 4.67000e+01, 0.00000e+00,\n",
       "       0.00000e+00, 0.00000e+00, 0.00000e+00, 4.33200e+01, 8.59000e+00,\n",
       "       0.00000e+00, 2.77000e+00, 1.46800e+01, 4.05400e+01, 1.08200e+01,\n",
       "       0.00000e+00, 0.00000e+00, 0.00000e+00, 1.95000e+00, 4.95900e+01,\n",
       "       5.80000e+00, 0.00000e+00, 0.00000e+00, 0.00000e+00, 2.17000e+00,\n",
       "       4.30000e-01, 0.00000e+00, 6.44000e+00, 5.42900e+01, 1.11600e+01,\n",
       "       0.00000e+00, 0.00000e+00])"
      ]
     },
     "execution_count": 28,
     "metadata": {},
     "output_type": "execute_result"
    }
   ],
   "source": [
    "y"
   ]
  },
  {
   "cell_type": "code",
   "execution_count": 29,
   "metadata": {},
   "outputs": [],
   "source": [
    "# Divisão em dados de treino e de teste\n",
    "X_train, X_test, y_train, y_test = train_test_split(X, y, test_size=0.2, random_state = 42)"
   ]
  },
  {
   "cell_type": "code",
   "execution_count": 30,
   "metadata": {},
   "outputs": [],
   "source": [
    "# Cria o modelo\n",
    "modelo = LinearRegression(normalize = False, fit_intercept = True)"
   ]
  },
  {
   "cell_type": "code",
   "execution_count": 31,
   "metadata": {},
   "outputs": [],
   "source": [
    "# Treina o modelo\n",
    "modelo_v2 = modelo.fit(X_train, y_train)"
   ]
  },
  {
   "cell_type": "code",
   "execution_count": 32,
   "metadata": {},
   "outputs": [
    {
     "data": {
      "text/plain": [
       "0.0006576927283136191"
      ]
     },
     "execution_count": 32,
     "metadata": {},
     "output_type": "execute_result"
    }
   ],
   "source": [
    "# Calcula a métrica R2 do nosso modelo\n",
    "r2_score(y_test, modelo_v2.fit(X_train, y_train).predict(X_test))"
   ]
  },
  {
   "cell_type": "code",
   "execution_count": 33,
   "metadata": {},
   "outputs": [
    {
     "name": "stdout",
     "output_type": "stream",
     "text": [
      "Area média queimada em ha: [10.97146101]\n"
     ]
    }
   ],
   "source": [
    "# Produz a matriz com os novos dados de entrada para a previsão\n",
    "[['FFMC', 'DMC', 'DC', 'ISI', 'temp', 'RH', 'wind', 'rain']]\n",
    "FFMC = 90.644681\n",
    "DMC = 110.872340\n",
    "DC = 547.940039\n",
    "ISI = 9.021663\n",
    "temp = 18.889168\n",
    "RH = 44.288201\n",
    "wind = 4.017602\n",
    "rain = 0.021663\n",
    "\n",
    "# Lista com os valores das variáveis\n",
    "forest_data = [FFMC, DMC, DC, ISI, temp, RH, wind, rain]\n",
    "\n",
    "# Reshape\n",
    "Xp = np.array(forest_data).reshape(1, -1)\n",
    "\n",
    "# Previsão\n",
    "print(\"Area média queimada em ha:\", modelo_v2.predict(Xp))"
   ]
  },
  {
   "cell_type": "code",
   "execution_count": 35,
   "metadata": {},
   "outputs": [
    {
     "name": "stdout",
     "output_type": "stream",
     "text": [
      "[85.39901643]\n"
     ]
    }
   ],
   "source": [
    "#Acurácia do modelo\n",
    "acuracia = (modelo_v2.predict(Xp)/12.847292)*100\n",
    "print(acuracia)"
   ]
  }
 ],
 "metadata": {
  "kernelspec": {
   "display_name": "Python 3",
   "language": "python",
   "name": "python3"
  },
  "language_info": {
   "codemirror_mode": {
    "name": "ipython",
    "version": 3
   },
   "file_extension": ".py",
   "mimetype": "text/x-python",
   "name": "python",
   "nbconvert_exporter": "python",
   "pygments_lexer": "ipython3",
   "version": "3.6.5"
  }
 },
 "nbformat": 4,
 "nbformat_minor": 2
}
